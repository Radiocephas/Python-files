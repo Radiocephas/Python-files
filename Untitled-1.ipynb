{
 "cells": [
  {
   "cell_type": "code",
   "execution_count": 13,
   "metadata": {},
   "outputs": [
    {
     "name": "stdout",
     "output_type": "stream",
     "text": [
      "Hello World\n",
      "['indigo', 'apple', ('Jog', 'turn'), 'cat', 'Goat', 'House', 'Iron']\n"
     ]
    }
   ],
   "source": [
    "print(\"Hello World\")\n",
    "mainlist = list((\"apple\", \"ball\", \"cat\", \"Dog\", \"Farm\"))\n",
    "supp_list = [\"Goat\", \"House\", \"Iron\"]\n",
    "mainlist.extend(supp_list)\n",
    "mainlist.pop(3)\n",
    "mainlist.remove(\"Farm\")\n",
    "mainlist.insert(0, \"indigo\")\n",
    "mainlist[2] = \"Jog\", \"turn\"\n",
    "print(mainlist)"
   ]
  }
 ],
 "metadata": {
  "kernelspec": {
   "display_name": "Python 3",
   "language": "python",
   "name": "python3"
  },
  "language_info": {
   "codemirror_mode": {
    "name": "ipython",
    "version": 3
   },
   "file_extension": ".py",
   "mimetype": "text/x-python",
   "name": "python",
   "nbconvert_exporter": "python",
   "pygments_lexer": "ipython3",
   "version": "3.9.6"
  }
 },
 "nbformat": 4,
 "nbformat_minor": 2
}
