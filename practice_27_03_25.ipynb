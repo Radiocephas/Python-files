{
 "cells": [
  {
   "cell_type": "code",
   "execution_count": 8,
   "metadata": {},
   "outputs": [
    {
     "name": "stdout",
     "output_type": "stream",
     "text": [
      "6.0 + 3.0 = 9.0\n"
     ]
    }
   ],
   "source": [
    "# S I M P L E  C A L C U L A T O R\n",
    "# Purpose of this program is to create a calculator that takes two numbers and an operator (+, -, *, /) as input and performs the operation.\n",
    "\n",
    "first_num = float(input(\"Enter the first number: \"))\n",
    "second_num = float(input(\"Enter the second number: \"))\n",
    "optr = input(\"Enter the operator (+, -, *, /): \")\n",
    "\n",
    "if optr == \"+\":\n",
    "    result = first_num + second_num\n",
    "elif optr == \"-\":\n",
    "    result = first_num - second_num\n",
    "elif optr == \"*\":\n",
    "    result = first_num * second_num\n",
    "elif optr == \"/\":\n",
    "    if second_num == 0:\n",
    "        print(\"Error: Division by zero is not allowed\")\n",
    "        exit()\n",
    "    result = first_num/second_num\n",
    "elif optr == \"\":\n",
    "    print(\"You didn't enter any operator\")\n",
    "    exit()\n",
    "else:\n",
    "    print(\"Enter a valid operator!\")\n",
    "    exit()\n",
    "\n",
    "print(f\"{first_num} {optr} {second_num} = {result}\")"
   ]
  },
  {
   "cell_type": "code",
   "execution_count": null,
   "metadata": {},
   "outputs": [],
   "source": []
  }
 ],
 "metadata": {
  "kernelspec": {
   "display_name": "Python 3",
   "language": "python",
   "name": "python3"
  },
  "language_info": {
   "codemirror_mode": {
    "name": "ipython",
    "version": 3
   },
   "file_extension": ".py",
   "mimetype": "text/x-python",
   "name": "python",
   "nbconvert_exporter": "python",
   "pygments_lexer": "ipython3",
   "version": "3.9.6"
  }
 },
 "nbformat": 4,
 "nbformat_minor": 2
}
