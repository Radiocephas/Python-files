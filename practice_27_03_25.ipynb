{
 "cells": [
  {
   "cell_type": "code",
   "execution_count": 8,
   "metadata": {},
   "outputs": [
    {
     "name": "stdout",
     "output_type": "stream",
     "text": [
      "6.0 + 3.0 = 9.0\n"
     ]
    }
   ],
   "source": [
    "# S I M P L E  C A L C U L A T O R\n",
    "# Purpose of this program is to create a calculator that takes two numbers and an operator (+, -, *, /) as input and performs the operation.\n",
    "\n",
    "first_num = float(input(\"Enter the first number: \"))\n",
    "second_num = float(input(\"Enter the second number: \"))\n",
    "optr = input(\"Enter the operator (+, -, *, /): \")\n",
    "\n",
    "if optr == \"+\":\n",
    "    result = first_num + second_num\n",
    "elif optr == \"-\":\n",
    "    result = first_num - second_num\n",
    "elif optr == \"*\":\n",
    "    result = first_num * second_num\n",
    "elif optr == \"/\":\n",
    "    if second_num == 0:\n",
    "        print(\"Error: Division by zero is not allowed\")\n",
    "        exit()\n",
    "    result = first_num/second_num\n",
    "elif optr == \"\":\n",
    "    print(\"You didn't enter any operator\")\n",
    "    exit()\n",
    "else:\n",
    "    print(\"Error: Invalid operator! Please use +, -, *, or /.\")\n",
    "    exit()\n",
    "\n",
    "print(f\"{first_num} {optr} {second_num} = {result}\")"
   ]
  },
  {
   "cell_type": "code",
   "execution_count": 11,
   "metadata": {},
   "outputs": [
    {
     "name": "stdout",
     "output_type": "stream",
     "text": [
      "8 is an EVEN number \n"
     ]
    }
   ],
   "source": [
    "# E V E N  O R  O D D  C H E C K E R\n",
    "# a program that takes an integer input and checks if it is even or odd.\n",
    "try:\n",
    "    num = int(input(\"Enter an integer: \"))\n",
    "\n",
    "    print (f\"{num} is an EVEN number \") if num % 2 == 0 else print (f\"{num} is an ODD number\")\n",
    "except ValueError:\n",
    "    print(\"Error: Please enter a valid integer\")"
   ]
  },
  {
   "cell_type": "code",
   "execution_count": 18,
   "metadata": {},
   "outputs": [
    {
     "name": "stdout",
     "output_type": "stream",
     "text": [
      "Your nickname reversed is sehguN\n"
     ]
    }
   ],
   "source": [
    "# S T R I N G  R E V E R S E R (Slicing method)\n",
    "# Take a string input from the user and print it in reverse.\n",
    "\n",
    "nickname = input(\"Enter Your Nickname: \")\n",
    "print(f\"Your nickname reversed is {nickname[::-1]}\")"
   ]
  },
  {
   "cell_type": "code",
   "execution_count": 10,
   "metadata": {},
   "outputs": [
    {
     "name": "stdout",
     "output_type": "stream",
     "text": [
      "The phrase 'God knows best' is not a Palindrome\n"
     ]
    }
   ],
   "source": [
    "# P A L I N D R O M E  C H E C K E R\n",
    "# Check if the input word is a palindrome\n",
    "\n",
    "word = input(\"Enter the word to be reversed: \")\n",
    "chk_word = word.lower().replace(\" \", \"\")\n",
    "\n",
    "if chk_word == chk_word[::-1]:\n",
    "    if \" \" in word:\n",
    "        print(f\"The phrase '{word}' is a Palindrome\")\n",
    "    else:\n",
    "        print(f\"The word '{word}' is a Palindrome\")\n",
    "else:\n",
    "    if \" \" in word:\n",
    "        print(f\"The phrase '{word}' is not a Palindrome\")\n",
    "    else:\n",
    "        print(f\"The word '{word}' is not a Palindrome\")"
   ]
  },
  {
   "cell_type": "code",
   "execution_count": 22,
   "metadata": {},
   "outputs": [
    {
     "name": "stdout",
     "output_type": "stream",
     "text": [
      "In the class, the average score is 46.8, the highest score is 60.0, the lowest score is 25.0 and the corrected list is [60, 'FAILED', 60, 'FAILED', 50]\n"
     ]
    }
   ],
   "source": [
    "# S C O R E  A V E R A G E  C A L C U L A T O R\n",
    "\n",
    "\n",
    "scores = [60, 39, 60, 25, 50]\n",
    "highest_score = float(max(scores))\n",
    "lowest_score = float(min(scores))\n",
    "corr_scores = [\"FAILED\" if x < 40 else x for x in scores] \n",
    "\n",
    "print(f\"In the class, the average score is {sum(scores)/len(scores)}, the highest score is {highest_score}, the lowest score is {lowest_score} and the corrected list is {corr_scores}\")\n"
   ]
  },
  {
   "cell_type": "code",
   "execution_count": 37,
   "metadata": {},
   "outputs": [
    {
     "name": "stdout",
     "output_type": "stream",
     "text": [
      "The item is not in the cart\n",
      "Casio Calculator\n",
      "Headset\n",
      "Apple pen\n",
      "Printer\n"
     ]
    }
   ],
   "source": [
    "# S I M P L E  S H O P P I N G  C A R T  S Y S T E M\n",
    "\n",
    "cart = [\"Casio Calculator\", \"Headset\", \"Apple pen\", \"Printer\"]\n",
    "\n",
    "# Add an Item to cart\n",
    "# add_item = input(\"Add an item to the cart: \")\n",
    "# cart.append(add_item)\n",
    "# print(cart)\n",
    "\n",
    "# Remove an item from the cart\n",
    "rem_item = input(\"Input an item to remove from the cart: \")\n",
    "if rem_item  not in cart:\n",
    "    print(\"The item is not in the cart\")\n",
    "else:\n",
    "    cart.remove(rem_item)\n",
    "    print(cart)\n",
    "\n",
    "# View Items in the cart\n",
    "for i in cart:\n",
    "    print(i)"
   ]
  },
  {
   "cell_type": "code",
   "execution_count": null,
   "metadata": {},
   "outputs": [],
   "source": []
  }
 ],
 "metadata": {
  "kernelspec": {
   "display_name": "Python 3",
   "language": "python",
   "name": "python3"
  },
  "language_info": {
   "codemirror_mode": {
    "name": "ipython",
    "version": 3
   },
   "file_extension": ".py",
   "mimetype": "text/x-python",
   "name": "python",
   "nbconvert_exporter": "python",
   "pygments_lexer": "ipython3",
   "version": "3.9.6"
  }
 },
 "nbformat": 4,
 "nbformat_minor": 2
}
