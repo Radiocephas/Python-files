{
 "cells": [
  {
   "cell_type": "code",
   "execution_count": 7,
   "metadata": {},
   "outputs": [],
   "source": [
    "# S I M P L E  C A L C U L A T O R\n",
    "# Purpose of this program is to create a calculator that takes two numbers and an operator (+, -, *, /) as input and performs the operation.\n",
    "\n",
    "first_num = int(input(\"Enter the first number: \"))\n",
    "second_num = int(input(\"Enter the second number: \"))\n",
    "optr = input(\"Enter the operator (+, -, *, /): \")\n",
    "\n",
    "if optr == \"+\":\n",
    "    result = first_num + second_num\n",
    "    print(result)\n",
    "elif optr == \"-\":\n",
    "    result = first_num - second_num\n",
    "    print(result)\n",
    "elif optr == \"*\":\n",
    "    result = first_num * second_num\n",
    "    print(result)\n",
    "elif optr == \"/\":\n",
    "    result = first_num/second_num\n",
    "    print(result)\n",
    "elif optr == \"\":\n",
    "    print(\"You didn't enter any operator\")\n",
    "else:\n",
    "    print(\"Enter a valid operator!\")"
   ]
  },
  {
   "cell_type": "code",
   "execution_count": null,
   "metadata": {},
   "outputs": [],
   "source": []
  }
 ],
 "metadata": {
  "kernelspec": {
   "display_name": "Python 3",
   "language": "python",
   "name": "python3"
  },
  "language_info": {
   "codemirror_mode": {
    "name": "ipython",
    "version": 3
   },
   "file_extension": ".py",
   "mimetype": "text/x-python",
   "name": "python",
   "nbconvert_exporter": "python",
   "pygments_lexer": "ipython3",
   "version": "3.9.6"
  }
 },
 "nbformat": 4,
 "nbformat_minor": 2
}
