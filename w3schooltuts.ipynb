{
 "cells": [
  {
   "cell_type": "code",
   "execution_count": 13,
   "metadata": {},
   "outputs": [
    {
     "name": "stdout",
     "output_type": "stream",
     "text": [
      "Hello World\n",
      "['indigo', 'apple', ('Jog', 'turn'), 'cat', 'Goat', 'House', 'Iron']\n"
     ]
    }
   ],
   "source": [
    "print(\"Hello World\")\n",
    "mainlist = list((\"apple\", \"ball\", \"cat\", \"Dog\", \"Farm\"))\n",
    "supp_list = [\"Goat\", \"House\", \"Iron\"]\n",
    "mainlist.extend(supp_list)\n",
    "mainlist.pop(3)\n",
    "mainlist.remove(\"Farm\")\n",
    "mainlist.insert(0, \"indigo\")\n",
    "mainlist[2] = \"Jog\", \"turn\"\n",
    "print(mainlist)"
   ]
  },
  {
   "cell_type": "code",
   "execution_count": 11,
   "metadata": {},
   "outputs": [
    {
     "name": "stdout",
     "output_type": "stream",
     "text": [
      "apple\n",
      "banana\n",
      "cherry\n"
     ]
    }
   ],
   "source": [
    "# R A N G E\n",
    "\n",
    "thislist = [\"apple\", \"banana\", \"cherry\"]\n",
    "for i in range(len(thislist)):\n",
    "  print(thislist[i])"
   ]
  },
  {
   "cell_type": "code",
   "execution_count": 14,
   "metadata": {},
   "outputs": [
    {
     "name": "stdout",
     "output_type": "stream",
     "text": [
      "Samseph\n",
      "Ben\n",
      "Tega\n",
      "Maestro\n"
     ]
    }
   ],
   "source": [
    "# W H I L E  L O O P\n",
    "\n",
    "roommates = [\"Samseph\", \"Ben\", \"Tega\", \"Maestro\"]\n",
    "i = 0\n",
    "while i < len(roommates):\n",
    "    print(roommates[i])\n",
    "    i += 1"
   ]
  },
  {
   "cell_type": "code",
   "execution_count": 22,
   "metadata": {},
   "outputs": [
    {
     "name": "stdout",
     "output_type": "stream",
     "text": [
      "['Ekiti', 'Gombe']\n"
     ]
    }
   ],
   "source": [
    "states = [\"Abuja\", \"Lagos\", \"Ekiti\", \"Gombe\"]\n",
    "states_with_e = []\n",
    "\n",
    "for x in states:\n",
    "    if \"e\" in x or \"E\" in x:\n",
    "        states_with_e.append(x)\n",
    "\n",
    "print(states_with_e)"
   ]
  },
  {
   "cell_type": "code",
   "execution_count": 1,
   "metadata": {},
   "outputs": [
    {
     "name": "stdout",
     "output_type": "stream",
     "text": [
      "['Abeokuta', 'Akure']\n"
     ]
    }
   ],
   "source": [
    "capitals = [\"Abeokuta\", \"Lafia\", \"Minna\", \"Akure\", \"Osogbo\"]\n",
    "capitals_with_e = [x for x in capitals if \"e\" in x]\n",
    "\n",
    "print(capitals_with_e)"
   ]
  },
  {
   "cell_type": "code",
   "execution_count": 2,
   "metadata": {},
   "outputs": [
    {
     "name": "stdout",
     "output_type": "stream",
     "text": [
      "[67, 67, 45, 25, 20]\n"
     ]
    }
   ],
   "source": [
    "#List sorting\n",
    "\n",
    "numera = [20, 45, 67, 25, 67]\n",
    "numera.sort( reverse= True)\n",
    "\n",
    "print(numera)"
   ]
  },
  {
   "cell_type": "code",
   "execution_count": 11,
   "metadata": {},
   "outputs": [
    {
     "name": "stdout",
     "output_type": "stream",
     "text": [
      "\n"
     ]
    }
   ],
   "source": [
    "strr = \"A string\"\n",
    "rem_space = [\"\" if \" \" else x for x in strr]\n",
    "print(''.join(reversed(rem_space)))"
   ]
  },
  {
   "cell_type": "code",
   "execution_count": 1,
   "metadata": {},
   "outputs": [
    {
     "name": "stdout",
     "output_type": "stream",
     "text": [
      "{'apple', 'cherry', 'banana'}\n"
     ]
    }
   ],
   "source": [
    "thisset = {\"apple\", \"banana\", \"cherry\"}\n",
    "print(thisset)"
   ]
  }
 ],
 "metadata": {
  "kernelspec": {
   "display_name": "Python 3",
   "language": "python",
   "name": "python3"
  },
  "language_info": {
   "codemirror_mode": {
    "name": "ipython",
    "version": 3
   },
   "file_extension": ".py",
   "mimetype": "text/x-python",
   "name": "python",
   "nbconvert_exporter": "python",
   "pygments_lexer": "ipython3",
   "version": "3.9.6"
  }
 },
 "nbformat": 4,
 "nbformat_minor": 2
}
